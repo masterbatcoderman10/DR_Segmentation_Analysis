{
 "cells": [
  {
   "cell_type": "code",
   "execution_count": 1,
   "metadata": {},
   "outputs": [],
   "source": [
    "import numpy as np\n",
    "import os\n",
    "import shutil \n",
    "import pathlib\n",
    "import re"
   ]
  },
  {
   "cell_type": "code",
   "execution_count": 2,
   "metadata": {},
   "outputs": [],
   "source": [
    "dir_path = \"../../../Data/retinal-lesions-v20191227\""
   ]
  },
  {
   "cell_type": "code",
   "execution_count": 3,
   "metadata": {},
   "outputs": [
    {
     "data": {
      "text/plain": [
       "['.DS_Store',\n",
       " 'fundus_images',\n",
       " 'cleaned_annotations',\n",
       " 'enhancement_three',\n",
       " 'dr_grades_segs.csv',\n",
       " '.lesion_annotations_color.zip.icloud',\n",
       " 'lesion_annotations_color',\n",
       " '.cleaned_annotations.zip.icloud',\n",
       " 'images_896x896',\n",
       " 'enhancement_one',\n",
       " '.fundus_images.zip.icloud',\n",
       " 'bw_annotations',\n",
       " 'enhancement_two',\n",
       " 'dr_grades.csv',\n",
       " 'lesion_segs_896x896']"
      ]
     },
     "execution_count": 3,
     "metadata": {},
     "output_type": "execute_result"
    }
   ],
   "source": [
    "os.listdir(dir_path)"
   ]
  },
  {
   "cell_type": "code",
   "execution_count": 4,
   "metadata": {},
   "outputs": [],
   "source": [
    "new_dir_path = \"../../../Data/retinal-lesions-v20191227/lesion_annotations_color\"\n"
   ]
  },
  {
   "cell_type": "code",
   "execution_count": 5,
   "metadata": {},
   "outputs": [],
   "source": [
    "lesions_path = os.path.join(dir_path, \"lesion_segs_896x896\")"
   ]
  },
  {
   "cell_type": "code",
   "execution_count": 6,
   "metadata": {},
   "outputs": [],
   "source": [
    "pattern = r\"\\d\""
   ]
  },
  {
   "cell_type": "code",
   "execution_count": 7,
   "metadata": {},
   "outputs": [
    {
     "name": "stdout",
     "output_type": "stream",
     "text": [
      "1575\n"
     ]
    }
   ],
   "source": [
    "#Just to determine whether the right files are being fetched\n",
    "#If count equals the number of images, then true\n",
    "count = 0\n",
    "for dp, dn, fn in os.walk(lesions_path):\n",
    "    for f in fn:\n",
    "        if re.search(pattern, f):\n",
    "            old_path = os.path.join(dp, f)\n",
    "            new_path = os.path.join(new_dir_path, f)\n",
    "            shutil.copy(old_path, new_path)\n",
    "            count += 1\n",
    "\n",
    "print(count)\n"
   ]
  },
  {
   "cell_type": "code",
   "execution_count": null,
   "metadata": {},
   "outputs": [],
   "source": []
  }
 ],
 "metadata": {
  "kernelspec": {
   "display_name": "Python 3.8.5 ('base')",
   "language": "python",
   "name": "python3"
  },
  "language_info": {
   "codemirror_mode": {
    "name": "ipython",
    "version": 3
   },
   "file_extension": ".py",
   "mimetype": "text/x-python",
   "name": "python",
   "nbconvert_exporter": "python",
   "pygments_lexer": "ipython3",
   "version": "3.8.5"
  },
  "orig_nbformat": 4,
  "vscode": {
   "interpreter": {
    "hash": "bc75da91c564413737c36d142f9ba7109c554d7e02e6688105e2cd200d273f73"
   }
  }
 },
 "nbformat": 4,
 "nbformat_minor": 2
}
