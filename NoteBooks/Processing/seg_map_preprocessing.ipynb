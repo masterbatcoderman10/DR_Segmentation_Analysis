{
 "cells": [
  {
   "cell_type": "code",
   "execution_count": 5,
   "metadata": {},
   "outputs": [],
   "source": [
    "import numpy as np\n",
    "import cv2\n",
    "from PIL import Image\n",
    "import tensorflow as tf\n",
    "from tensorflow.keras.utils import load_img\n",
    "from tensorflow.keras.utils import img_to_array\n",
    "from tensorflow.keras.utils import array_to_img\n",
    "from tensorflow.keras.utils import save_img, to_categorical\n",
    "import os\n",
    "import shutil \n",
    "import pathlib"
   ]
  },
  {
   "cell_type": "markdown",
   "metadata": {},
   "source": [
    "## 1. Testing the color change of an arbitrary image"
   ]
  },
  {
   "cell_type": "code",
   "execution_count": 3,
   "metadata": {},
   "outputs": [],
   "source": [
    "dir_path_ex = \"../Data/retinal-lesions-v20191227/lesion_segs_896x896/9_left\"\n",
    "cvs_example = \"cotton_wool_spots.png\"\n",
    "example_img_path = os.path.join(dir_path_ex, cvs_example)"
   ]
  },
  {
   "cell_type": "code",
   "execution_count": 22,
   "metadata": {},
   "outputs": [],
   "source": [
    "def process_annotation(file_path):\n",
    "  file_name = tf.io.read_file(file_path)\n",
    "  img = tf.io.decode_png(file_name)\n",
    "  #img = img - 1\n",
    "  #img = tf.image.resize(img, [224, 224])\n",
    "  return img\n",
    "\n",
    "\n"
   ]
  },
  {
   "cell_type": "code",
   "execution_count": 88,
   "metadata": {},
   "outputs": [],
   "source": [
    "ex_img = load_img(example_img_path)\n",
    "a = tf.keras.utils.to_categorical([0, 1, 2, 3], num_classes=4)"
   ]
  },
  {
   "cell_type": "code",
   "execution_count": 73,
   "metadata": {},
   "outputs": [
    {
     "data": {
      "text/plain": [
       "(896, 896, 1)"
      ]
     },
     "execution_count": 73,
     "metadata": {},
     "output_type": "execute_result"
    }
   ],
   "source": [
    "ex_arr = img_to_array(ex_img)\n",
    "ex_arr.shape"
   ]
  },
  {
   "cell_type": "markdown",
   "metadata": {},
   "source": [
    "`c` is an array of arrays, it contains 3 arrays for each axes where nonzero values are present, the first array corresponds to the indices along the width, the second array corresponds to the incides along the height, and the third array corresponds to the indices along the pixel values. Observing the third array of `c` shows an interesting pattern.\n",
    "\n",
    "![image](./Screen%20Shot%202022-10-30%20at%204.25.43%20PM.png)\n",
    "\n",
    "These correspond to the way a white pixel is, 255 along all three indices.\n",
    "\n",
    "Simply looking at the first and second array does not present any interesting information since they are arbitrary numbers.\n",
    "\n",
    "To modify the pixel values withing an image, the image array must be indexed using the first and second array of `c`. These corresponding pixel arrays will be the white pixels, and will be a matrix of size `nx3` where `n` is the number of of pixels which are white. In this test case, the each white pixel `[255, 255, 255]` is being replaced with a red pixed `[255, 0, 0]`. This red pixel needs to be broadcasted to the same number of white pixels present, and then its just a matter of simple assignment."
   ]
  },
  {
   "cell_type": "code",
   "execution_count": 74,
   "metadata": {},
   "outputs": [],
   "source": [
    "#Finding all the pixels which are white, these will be nonzero values\n",
    "c = np.nonzero(ex_arr)\n",
    "#\n",
    "#repeat factor\n",
    "r = len(ex_arr[c])\n",
    "red = np.array([[0, 255 ,0]])\n",
    "red = np.repeat(red, r, axis=0)\n",
    "ex_arr[c[0], c[1], :] = red\n"
   ]
  },
  {
   "cell_type": "code",
   "execution_count": 75,
   "metadata": {},
   "outputs": [
    {
     "data": {
      "text/plain": [
       "(array([167, 167, 167, ..., 424, 424, 424]),\n",
       " array([488, 489, 490, ..., 555, 556, 557]),\n",
       " array([0, 0, 0, ..., 0, 0, 0]))"
      ]
     },
     "execution_count": 75,
     "metadata": {},
     "output_type": "execute_result"
    }
   ],
   "source": [
    "c"
   ]
  },
  {
   "cell_type": "code",
   "execution_count": 76,
   "metadata": {},
   "outputs": [
    {
     "data": {
      "text/plain": [
       "(8740, 1)"
      ]
     },
     "execution_count": 76,
     "metadata": {},
     "output_type": "execute_result"
    }
   ],
   "source": [
    "ex_arr[c[0], c[1], :].shape"
   ]
  },
  {
   "cell_type": "code",
   "execution_count": 77,
   "metadata": {},
   "outputs": [
    {
     "data": {
      "text/plain": [
       "array([  0., 127.], dtype=float32)"
      ]
     },
     "execution_count": 77,
     "metadata": {},
     "output_type": "execute_result"
    }
   ],
   "source": [
    "np.unique(ex_arr)"
   ]
  },
  {
   "cell_type": "code",
   "execution_count": 78,
   "metadata": {},
   "outputs": [],
   "source": [
    "n_img = array_to_img(ex_arr)"
   ]
  },
  {
   "cell_type": "code",
   "execution_count": 80,
   "metadata": {},
   "outputs": [
    {
     "data": {
      "image/png": "[encoded data removed]",
      "text/plain": [
       "<PIL.Image.Image image mode=L size=896x896>"
      ]
     },
     "execution_count": 80,
     "metadata": {},
     "output_type": "execute_result"
    }
   ],
   "source": [
    "n_img"
   ]
  },
  {
   "cell_type": "code",
   "execution_count": 71,
   "metadata": {},
   "outputs": [],
   "source": [
    "c = np.nonzero(ex_arr[:,:])"
   ]
  },
  {
   "cell_type": "code",
   "execution_count": 72,
   "metadata": {},
   "outputs": [
    {
     "data": {
      "text/plain": [
       "(array([167, 167, 167, ..., 424, 424, 424]),\n",
       " array([488, 489, 490, ..., 555, 556, 557]),\n",
       " array([0, 0, 0, ..., 0, 0, 0]))"
      ]
     },
     "execution_count": 72,
     "metadata": {},
     "output_type": "execute_result"
    }
   ],
   "source": [
    "c"
   ]
  },
  {
   "cell_type": "markdown",
   "metadata": {},
   "source": [
    "### 1.1 Testing with a tiny image"
   ]
  },
  {
   "cell_type": "code",
   "execution_count": 167,
   "metadata": {},
   "outputs": [],
   "source": [
    "arr = np.arange(27).reshape(3, 3, 3)\n",
    "arr = np.array([[[ 0, 0,  0],\n",
    "        [ 0, 0,  0],\n",
    "        [ 0,  0,  0]],\n",
    "\n",
    "       [[ 0, 0, 0],\n",
    "        [255,0, 0],\n",
    "        [0, 0, 0]],\n",
    "\n",
    "       [[0, 0, 0],\n",
    "        [0, 0, 0],\n",
    "        [0, 0, 0]]])\n"
   ]
  },
  {
   "cell_type": "code",
   "execution_count": 168,
   "metadata": {},
   "outputs": [
    {
     "data": {
      "text/plain": [
       "array([[[  0,   0,   0],\n",
       "        [  0,   0,   0],\n",
       "        [  0,   0,   0]],\n",
       "\n",
       "       [[  0,   0,   0],\n",
       "        [255,   0,   0],\n",
       "        [  0,   0,   0]],\n",
       "\n",
       "       [[  0,   0,   0],\n",
       "        [  0,   0,   0],\n",
       "        [  0,   0,   0]]])"
      ]
     },
     "execution_count": 168,
     "metadata": {},
     "output_type": "execute_result"
    }
   ],
   "source": [
    "arr"
   ]
  },
  {
   "cell_type": "code",
   "execution_count": 169,
   "metadata": {},
   "outputs": [
    {
     "data": {
      "text/plain": [
       "array([[[  0,   0,   0],\n",
       "        [  0, 255,   0],\n",
       "        [  0,   0,   0]],\n",
       "\n",
       "       [[  0,   0,   0],\n",
       "        [  0,   0,   0],\n",
       "        [  0,   0,   0]],\n",
       "\n",
       "       [[  0,   0,   0],\n",
       "        [  0,   0,   0],\n",
       "        [  0,   0,   0]]])"
      ]
     },
     "execution_count": 169,
     "metadata": {},
     "output_type": "execute_result"
    }
   ],
   "source": [
    "arr.T"
   ]
  },
  {
   "cell_type": "code",
   "execution_count": 170,
   "metadata": {},
   "outputs": [],
   "source": [
    "a_img = array_to_img(arr)"
   ]
  },
  {
   "cell_type": "code",
   "execution_count": 171,
   "metadata": {},
   "outputs": [
    {
     "data": {
      "image/png": "[encoded data removed]",
      "text/plain": [
       "<PIL.Image.Image image mode=RGB size=3x3>"
      ]
     },
     "execution_count": 171,
     "metadata": {},
     "output_type": "execute_result"
    }
   ],
   "source": [
    "a_img"
   ]
  },
  {
   "cell_type": "markdown",
   "metadata": {},
   "source": [
    "## 2. Creating a program that can identify the type of lesion, and modify color accordingly."
   ]
  },
  {
   "cell_type": "code",
   "execution_count": 2,
   "metadata": {},
   "outputs": [],
   "source": [
    "ihe = \"retinal_hemorrhage\"\n",
    "se = \"cotton_wool_spots\"\n",
    "he = \"hard_exudate\"\n",
    "ma = \"microaneurysm\"\n",
    "\n",
    "#lesion_indices = {ihe:0, se:1, he:2, ma:3}\n",
    "#lesion_names = {0:ihe, 1:se, 2:he, 3:ma}"
   ]
  },
  {
   "cell_type": "code",
   "execution_count": 3,
   "metadata": {},
   "outputs": [],
   "source": [
    "def identify(fn):\n",
    "\n",
    "    ihe = \"retinal_hemorrhage\"\n",
    "    se = \"cotton_wool_spots\"\n",
    "    he = \"hard_exudate\"\n",
    "    ma = \"microaneurysm\"\n",
    "\n",
    "    lesion_indices = {ihe:0, se:1, he:2, ma:3}\n",
    "    lesion_names = {0:ihe, 1:se, 2:he, 3:ma}\n",
    "\n",
    "    try:\n",
    "        i = lesion_indices[fn[:-4]]\n",
    "    except KeyError:\n",
    "        i = -1\n",
    "    \n",
    "    return i\n"
   ]
  },
  {
   "cell_type": "code",
   "execution_count": 288,
   "metadata": {},
   "outputs": [],
   "source": [
    "def ret_color(i):\n",
    "\n",
    "\n",
    "    ma = np.array([[245, 128, 128]])\n",
    "    se = np.array([[128, 242, 128]])\n",
    "    he = np.array([[245, 234, 133]])\n",
    "    ihe = np.array([[133, 213, 245]])\n",
    "\n",
    "    lesion_colors = {0:ihe, 1:se, 2:he, 3:ma}\n",
    "\n",
    "    try:\n",
    "        c = lesion_colors[i]\n",
    "    except KeyError:\n",
    "        c = -1\n",
    "    \n",
    "    return c"
   ]
  },
  {
   "cell_type": "code",
   "execution_count": 432,
   "metadata": {},
   "outputs": [],
   "source": [
    "def color_for_file(fn):\n",
    "\n",
    "    i = identify(fn)\n",
    "\n",
    "    c = ret_color(i)\n",
    "\n",
    "    return c"
   ]
  },
  {
   "cell_type": "markdown",
   "metadata": {},
   "source": [
    "### 2.1 Testing color retreival with arbitrary images"
   ]
  },
  {
   "cell_type": "code",
   "execution_count": 303,
   "metadata": {},
   "outputs": [],
   "source": [
    "test_dir = \"../Data/retinal-lesions-v20191227/lesion_segs_896x896/1471_right\"\n",
    "cvs_path = se + \".png\"\n",
    "he_path = he + \".png\"\n",
    "ma_path = ma + \".png\"\n",
    "ihe_path = ihe + \".png\""
   ]
  },
  {
   "cell_type": "code",
   "execution_count": 305,
   "metadata": {},
   "outputs": [
    {
     "data": {
      "text/plain": [
       "'cotton_wool_spots.png'"
      ]
     },
     "execution_count": 305,
     "metadata": {},
     "output_type": "execute_result"
    }
   ],
   "source": [
    "cvs_path"
   ]
  },
  {
   "cell_type": "markdown",
   "metadata": {},
   "source": [
    "### 2.2 Color change function for an image"
   ]
  },
  {
   "cell_type": "code",
   "execution_count": 306,
   "metadata": {},
   "outputs": [],
   "source": [
    "cvs_path_f = os.path.join(test_dir, cvs_path)\n",
    "he_path_f = os.path.join(test_dir, he_path)\n",
    "ma_path_f = os.path.join(test_dir, ma_path)\n",
    "ihe_path_f = os.path.join(test_dir, ihe_path)"
   ]
  },
  {
   "cell_type": "code",
   "execution_count": 304,
   "metadata": {},
   "outputs": [],
   "source": [
    "cvs_color = color_for_file(cvs_path)\n",
    "he_color = color_for_file(he_path)\n",
    "ma_color = color_for_file(ma_path)\n",
    "ihe_color = color_for_file(ihe_path)\n"
   ]
  },
  {
   "cell_type": "code",
   "execution_count": 307,
   "metadata": {},
   "outputs": [],
   "source": [
    "def color_change(fp, color):\n",
    "\n",
    "    img = load_img(fp)\n",
    "    arr = img_to_array(img)\n",
    "    #Finding all the pixels which are white, these will be nonzero values\n",
    "    c = np.nonzero(arr[:,:])\n",
    "    #\n",
    "    #repeat factor\n",
    "    r = len(arr[c])\n",
    "    #Creating color pixels for each pixel that was white\n",
    "    color = np.repeat(color, r, axis=0)\n",
    "    arr[c[0], c[1], :] = color\n",
    "    n_img = array_to_img(arr)\n",
    "\n",
    "    return n_img\n",
    "\n",
    "    \n",
    "\n",
    "    "
   ]
  },
  {
   "cell_type": "code",
   "execution_count": 337,
   "metadata": {},
   "outputs": [],
   "source": [
    "def find_and_change(fn, fp):\n",
    "\n",
    "    c = color_for_file(fn)\n",
    "    if type(c) != int: \n",
    "        ni = color_change(fp, c)\n",
    "    else:\n",
    "        return -1\n",
    "    return ni"
   ]
  },
  {
   "cell_type": "code",
   "execution_count": 338,
   "metadata": {},
   "outputs": [
    {
     "data": {
      "text/plain": [
       "'../Data/retinal-lesions-v20191227/lesion_segs_896x896/1471_right/cotton_wool_spots.png'"
      ]
     },
     "execution_count": 338,
     "metadata": {},
     "output_type": "execute_result"
    }
   ],
   "source": [
    "cvs_path_f"
   ]
  },
  {
   "cell_type": "code",
   "execution_count": 339,
   "metadata": {},
   "outputs": [],
   "source": [
    "ni = color_change(cvs_path_f, cvs_color)\n",
    "n2 = color_change(he_path_f, he_color)\n",
    "n3 = color_change(ihe_path_f, ihe_color)\n",
    "n4 = color_change(ma_path_f, ma_color)"
   ]
  },
  {
   "cell_type": "code",
   "execution_count": 340,
   "metadata": {},
   "outputs": [
    {
     "data": {
      "image/png": "[encoded data removed]",
      "text/plain": [
       "<Figure size 2000x2000 with 4 Axes>"
      ]
     },
     "metadata": {},
     "output_type": "display_data"
    }
   ],
   "source": [
    "import matplotlib.pyplot as plt\n",
    "\n",
    "fig, ax = plt.subplots(2, 2, figsize = (20, 20))\n",
    "\n",
    "ax[0,0].imshow(ni)\n",
    "ax[0,1].imshow(n2)\n",
    "ax[1,0].imshow(n3)\n",
    "ax[1,1].imshow(n4)\n",
    "\n",
    "ax[0,0].axis(\"off\")\n",
    "ax[0,1].axis(\"off\")\n",
    "ax[1,0].axis(\"off\")\n",
    "ax[1,1].axis(\"off\")\n",
    "plt.show()"
   ]
  },
  {
   "cell_type": "markdown",
   "metadata": {},
   "source": [
    "## 3 Modifying all images"
   ]
  },
  {
   "cell_type": "code",
   "execution_count": 352,
   "metadata": {},
   "outputs": [],
   "source": [
    "data_path = \"../Data/retinal-lesions-v20191227/lesion_segs_896x896/\"\n",
    "file_num = 0\n",
    "for dp, dn, fn in os.walk(data_path):\n",
    "    for f in fn:\n",
    "\n",
    "        fp = os.path.join(dp, f)\n",
    "        ni = find_and_change(f, fp)\n",
    "\n",
    "        if type(ni) is not int:\n",
    "            new_fp = fp[:-4] + \"N.png\"\n",
    "\n",
    "            save_img(new_fp, ni, data_format=\"channels_last\")\n",
    "    \n",
    "        \n",
    "\n"
   ]
  },
  {
   "cell_type": "code",
   "execution_count": 344,
   "metadata": {},
   "outputs": [
    {
     "data": {
      "image/png": "[encoded data removed]",
      "text/plain": [
       "<PIL.Image.Image image mode=RGB size=896x896>"
      ]
     },
     "execution_count": 344,
     "metadata": {},
     "output_type": "execute_result"
    }
   ],
   "source": [
    "ni"
   ]
  },
  {
   "cell_type": "code",
   "execution_count": 347,
   "metadata": {},
   "outputs": [],
   "source": [
    "save_img(\"t.png\", ni, data_format=\"channels_last\")"
   ]
  },
  {
   "cell_type": "code",
   "execution_count": 349,
   "metadata": {},
   "outputs": [
    {
     "name": "stdout",
     "output_type": "stream",
     "text": [
      "numberrr\n"
     ]
    }
   ],
   "source": [
    "if type(1) == int: print(\"numberrr\")"
   ]
  },
  {
   "cell_type": "markdown",
   "metadata": {},
   "source": [
    "## 4 Combining images"
   ]
  },
  {
   "cell_type": "markdown",
   "metadata": {},
   "source": [
    "### 4.1 Combining non-overlapping images"
   ]
  },
  {
   "cell_type": "code",
   "execution_count": 353,
   "metadata": {},
   "outputs": [],
   "source": [
    "test_data_path = \"../Data/retinal-lesions-v20191227/lesion_segs_896x896/78_left\""
   ]
  },
  {
   "cell_type": "code",
   "execution_count": 364,
   "metadata": {},
   "outputs": [],
   "source": [
    "files = []\n",
    "for f in os.listdir(test_data_path):\n",
    "    if \"N\" in f:\n",
    "        files.append(os.path.join(test_data_path,f))"
   ]
  },
  {
   "cell_type": "code",
   "execution_count": 365,
   "metadata": {},
   "outputs": [
    {
     "data": {
      "text/plain": [
       "['../Data/retinal-lesions-v20191227/lesion_segs_896x896/78_left/microaneurysmN.png',\n",
       " '../Data/retinal-lesions-v20191227/lesion_segs_896x896/78_left/cotton_wool_spotsN.png']"
      ]
     },
     "execution_count": 365,
     "metadata": {},
     "output_type": "execute_result"
    }
   ],
   "source": [
    "files"
   ]
  },
  {
   "cell_type": "code",
   "execution_count": 367,
   "metadata": {},
   "outputs": [],
   "source": [
    "mask = np.zeros((896, 896, 3))\n",
    "def simple_combine(files, img1):\n",
    "    \n",
    "    if len(files) == 0:\n",
    "        return img1\n",
    "    else:\n",
    "        \n",
    "        fp = files.pop(0)\n",
    "        img2 = load_img(fp)\n",
    "        img2 = img_to_array(img2)\n",
    "        img1 = img1 + img2\n",
    "        return simple_combine(files, img1)\n",
    "    "
   ]
  },
  {
   "cell_type": "code",
   "execution_count": 366,
   "metadata": {},
   "outputs": [
    {
     "data": {
      "text/plain": [
       "['../Data/retinal-lesions-v20191227/lesion_segs_896x896/78_left/microaneurysmN.png',\n",
       " '../Data/retinal-lesions-v20191227/lesion_segs_896x896/78_left/cotton_wool_spotsN.png']"
      ]
     },
     "execution_count": 366,
     "metadata": {},
     "output_type": "execute_result"
    }
   ],
   "source": [
    "files"
   ]
  },
  {
   "cell_type": "code",
   "execution_count": 368,
   "metadata": {},
   "outputs": [],
   "source": [
    "ni = simple_combine(files, mask)"
   ]
  },
  {
   "cell_type": "code",
   "execution_count": 369,
   "metadata": {},
   "outputs": [
    {
     "data": {
      "text/plain": [
       "(896, 896, 3)"
      ]
     },
     "execution_count": 369,
     "metadata": {},
     "output_type": "execute_result"
    }
   ],
   "source": [
    "ni.shape"
   ]
  },
  {
   "cell_type": "code",
   "execution_count": 370,
   "metadata": {},
   "outputs": [],
   "source": [
    "ni = array_to_img(ni)"
   ]
  },
  {
   "cell_type": "code",
   "execution_count": 371,
   "metadata": {},
   "outputs": [
    {
     "data": {
      "image/png": "[encoded data removed]",
      "text/plain": [
       "<PIL.Image.Image image mode=RGB size=896x896>"
      ]
     },
     "execution_count": 371,
     "metadata": {},
     "output_type": "execute_result"
    }
   ],
   "source": [
    "ni"
   ]
  },
  {
   "cell_type": "markdown",
   "metadata": {},
   "source": [
    "The simple approach works for lesions that don't overlap!"
   ]
  },
  {
   "cell_type": "markdown",
   "metadata": {},
   "source": [
    "### 4.2 Creating an algorithm to combine overlapping lesions"
   ]
  },
  {
   "cell_type": "code",
   "execution_count": 48,
   "metadata": {},
   "outputs": [],
   "source": [
    "test_dir_path = \"../Data/retinal-lesions-v20191227/lesion_segs_896x896/1077_right\""
   ]
  },
  {
   "cell_type": "markdown",
   "metadata": {},
   "source": [
    "#### 4.2.1 Creating a sorting algorithm to sort the files by order"
   ]
  },
  {
   "cell_type": "code",
   "execution_count": 49,
   "metadata": {},
   "outputs": [],
   "source": [
    "def extract_lesion_files(dir_path):\n",
    "\n",
    "    '''This function takes a directory where there might be multiple lesion files, \n",
    "    and returns a list of (the full file path, the name of the file, and the color for the lesion) those\n",
    "    lesion files which have been modified.\n",
    "    '''\n",
    "    ihe = \"retinal_hemorrhageN\"\n",
    "    se = \"cotton_wool_spotsN\"\n",
    "    he = \"hard_exudateN\"\n",
    "    ma = \"microaneurysmN\"\n",
    "\n",
    "    lesion_indices = {ihe:2, se:0, he:1, ma:3}\n",
    "    lesion_names = {0:ihe, 1:se, 2:he, 3:ma}\n",
    "    files = []\n",
    "    # return [(os.path.join(dir_path, f), f) for f in os.listdir(dir_path) if \"N\" in f]\n",
    "    for f in os.listdir(dir_path):\n",
    "        try:\n",
    "            \n",
    "            lesion_indices[f[:-4]]\n",
    "            c = color_for_file(f.replace(\"N\", \"\"))\n",
    "            files.append((os.path.join(dir_path,f), f, c))\n",
    "        except:\n",
    "            continue\n",
    "    \n",
    "    return files \n",
    "\n"
   ]
  },
  {
   "cell_type": "code",
   "execution_count": 50,
   "metadata": {},
   "outputs": [
    {
     "ename": "FileNotFoundError",
     "evalue": "[Errno 2] No such file or directory: '../Data/retinal-lesions-v20191227/lesion_segs_896x896/1077_right'",
     "output_type": "error",
     "traceback": [
      "\u001b[0;31m---------------------------------------------------------------------------\u001b[0m",
      "\u001b[0;31mFileNotFoundError\u001b[0m                         Traceback (most recent call last)",
      "\u001b[0;32m<ipython-input-50-6b4684b20c8d>\u001b[0m in \u001b[0;36m<module>\u001b[0;34m\u001b[0m\n\u001b[0;32m----> 1\u001b[0;31m \u001b[0mfiles\u001b[0m \u001b[0;34m=\u001b[0m \u001b[0mextract_lesion_files\u001b[0m\u001b[0;34m(\u001b[0m\u001b[0mtest_dir_path\u001b[0m\u001b[0;34m)\u001b[0m\u001b[0;34m\u001b[0m\u001b[0;34m\u001b[0m\u001b[0m\n\u001b[0m",
      "\u001b[0;32m<ipython-input-49-115acde628b7>\u001b[0m in \u001b[0;36mextract_lesion_files\u001b[0;34m(dir_path)\u001b[0m\n\u001b[1;32m     14\u001b[0m     \u001b[0mfiles\u001b[0m \u001b[0;34m=\u001b[0m \u001b[0;34m[\u001b[0m\u001b[0;34m]\u001b[0m\u001b[0;34m\u001b[0m\u001b[0;34m\u001b[0m\u001b[0m\n\u001b[1;32m     15\u001b[0m     \u001b[0;31m# return [(os.path.join(dir_path, f), f) for f in os.listdir(dir_path) if \"N\" in f]\u001b[0m\u001b[0;34m\u001b[0m\u001b[0;34m\u001b[0m\u001b[0;34m\u001b[0m\u001b[0m\n\u001b[0;32m---> 16\u001b[0;31m     \u001b[0;32mfor\u001b[0m \u001b[0mf\u001b[0m \u001b[0;32min\u001b[0m \u001b[0mos\u001b[0m\u001b[0;34m.\u001b[0m\u001b[0mlistdir\u001b[0m\u001b[0;34m(\u001b[0m\u001b[0mdir_path\u001b[0m\u001b[0;34m)\u001b[0m\u001b[0;34m:\u001b[0m\u001b[0;34m\u001b[0m\u001b[0;34m\u001b[0m\u001b[0m\n\u001b[0m\u001b[1;32m     17\u001b[0m         \u001b[0;32mtry\u001b[0m\u001b[0;34m:\u001b[0m\u001b[0;34m\u001b[0m\u001b[0;34m\u001b[0m\u001b[0m\n\u001b[1;32m     18\u001b[0m \u001b[0;34m\u001b[0m\u001b[0m\n",
      "\u001b[0;31mFileNotFoundError\u001b[0m: [Errno 2] No such file or directory: '../Data/retinal-lesions-v20191227/lesion_segs_896x896/1077_right'"
     ]
    }
   ],
   "source": [
    "files = extract_lesion_files(test_dir_path)"
   ]
  },
  {
   "cell_type": "code",
   "execution_count": 556,
   "metadata": {},
   "outputs": [
    {
     "name": "stdout",
     "output_type": "stream",
     "text": [
      "[('../Data/retinal-lesions-v20191227/lesion_segs_896x896/1077_right/microaneurysmN.png', 'microaneurysmN.png', array([[245, 128, 128]]))]\n"
     ]
    }
   ],
   "source": [
    "print(files)"
   ]
  },
  {
   "cell_type": "code",
   "execution_count": 51,
   "metadata": {},
   "outputs": [],
   "source": [
    "def sort_lesions(files):\n",
    "\n",
    "    '''This function takes a list of filepaths, filenames, and colors and returns the list\n",
    "    sorted by the order of importance of the lesion\n",
    "    '''\n",
    "\n",
    "    ihe = \"retinal_hemorrhageN\"\n",
    "    se = \"cotton_wool_spotsN\"\n",
    "    he = \"hard_exudateN\"\n",
    "    ma = \"microaneurysmN\"\n",
    "\n",
    "    lesion_indices = {ihe:2, se:0, he:1, ma:3}\n",
    "    lesion_names = {0:ihe, 1:se, 2:he, 3:ma}\n",
    "\n",
    "    sorted_paths = sorted(files, key=lambda x: lesion_indices[x[1][:-4]])\n",
    "\n",
    "    return sorted_paths"
   ]
  },
  {
   "cell_type": "code",
   "execution_count": 540,
   "metadata": {},
   "outputs": [],
   "source": [
    "s_files = sort_lesions(files)"
   ]
  },
  {
   "cell_type": "code",
   "execution_count": 541,
   "metadata": {},
   "outputs": [
    {
     "data": {
      "text/plain": [
       "[('../Data/retinal-lesions-v20191227/lesion_segs_896x896/1077_right/microaneurysmN.png',\n",
       "  'microaneurysmN.png',\n",
       "  array([[245, 128, 128]]))]"
      ]
     },
     "execution_count": 541,
     "metadata": {},
     "output_type": "execute_result"
    }
   ],
   "source": [
    "s_files"
   ]
  },
  {
   "cell_type": "markdown",
   "metadata": {},
   "source": [
    "#### 4.2.2 Proper image combining alogirithm"
   ]
  },
  {
   "cell_type": "code",
   "execution_count": 52,
   "metadata": {},
   "outputs": [],
   "source": [
    "mask = np.zeros((896, 896, 3))\n",
    "\n",
    "def check_overflow(a):\n",
    "    return np.nonzero(a > 255)\n",
    "\n",
    "def color_change(fp, color):\n",
    "\n",
    "    img = load_img(fp)\n",
    "    arr = img_to_array(img)\n",
    "    #Finding all the pixels which are white, these will be nonzero values\n",
    "    c = np.nonzero(arr[:,:])\n",
    "    #\n",
    "    #repeat factor\n",
    "    r = len(arr[c])\n",
    "    #Creating color pixels for each pixel that was white\n",
    "    color = np.repeat(color, r, axis=0)\n",
    "    arr[c[0], c[1], :] = color\n",
    "    n_img = array_to_img(arr)\n",
    "\n",
    "    return n_img\n",
    "\n",
    "def replace_colors(c, arr, color):\n",
    "\n",
    "    r = len(arr[c])\n",
    "    #Creating color pixels for each pixel that was white\n",
    "    color = np.repeat(color, r, axis=0)\n",
    "    arr[c[0], c[1], :] = color\n",
    "\n",
    "    return arr\n",
    "\n",
    "def full_combine(files, img1):\n",
    "\n",
    "    '''Given a list of files, this function combines the lesions into one segmentation map'''\n",
    "\n",
    "    if len(files) == 0:\n",
    "        return img1\n",
    "    else:\n",
    "        f = files.pop(0)\n",
    "        fp = f[0]\n",
    "        fc = f[2]\n",
    "\n",
    "        img2 = load_img(fp)\n",
    "        img2 = img_to_array(img2)\n",
    "        img1 = img1 + img2\n",
    "        response_c = check_overflow(img1)\n",
    "        img1 = replace_colors(response_c, img1, fc)\n",
    "        \n",
    "        return full_combine(files, img1)\n",
    "    "
   ]
  },
  {
   "cell_type": "code",
   "execution_count": 543,
   "metadata": {},
   "outputs": [],
   "source": [
    "ni = full_combine(s_files, mask)"
   ]
  },
  {
   "cell_type": "code",
   "execution_count": 544,
   "metadata": {},
   "outputs": [],
   "source": [
    "save_img(\"t.png\", ni)"
   ]
  },
  {
   "cell_type": "code",
   "execution_count": 545,
   "metadata": {},
   "outputs": [],
   "source": [
    "ni = array_to_img(ni)"
   ]
  },
  {
   "cell_type": "code",
   "execution_count": 546,
   "metadata": {},
   "outputs": [
    {
     "data": {
      "image/png": "[encoded data removed]",
      "text/plain": [
       "<PIL.Image.Image image mode=RGB size=896x896>"
      ]
     },
     "execution_count": 546,
     "metadata": {},
     "output_type": "execute_result"
    }
   ],
   "source": [
    "ni"
   ]
  },
  {
   "cell_type": "markdown",
   "metadata": {},
   "source": [
    "## 5 Processing all segmentation maps (per eye) into a single image\n",
    "\n",
    "This procedure will require the following functions: `extract_lesion_files`, `sort_lesions`, and `full_combine`."
   ]
  },
  {
   "cell_type": "code",
   "execution_count": 61,
   "metadata": {},
   "outputs": [
    {
     "name": "stdout",
     "output_type": "stream",
     "text": [
      "38296_left.png\n",
      "../../../Data/retinal-lesions-v20191227/lesion_segs_896x896/38296_left/38296_left.png\n",
      "Processing image 2 next..\n"
     ]
    }
   ],
   "source": [
    "i = 0\n",
    "main_dir = \"../../../Data/retinal-lesions-v20191227/lesion_segs_896x896\"\n",
    "\n",
    "mask = np.zeros((896, 896, 3))\n",
    "for dn, dp, fn in os.walk(main_dir):\n",
    "    if i == 0: \n",
    "        i += 1\n",
    "        continue\n",
    "    \n",
    "    file_name = dn[60:] + \".png\"\n",
    "    file_path = os.path.join(dn, file_name)\n",
    "    files = extract_lesion_files(dn)\n",
    "    #print(files)\n",
    "    sorted_files = sort_lesions(files)\n",
    "    #print(sorted_files)\n",
    "    img_arr = full_combine(sorted_files, mask)\n",
    "    #img = array_to_img(img_arr)\n",
    "    save_img(file_path, img_arr, data_format=\"channels_last\")\n",
    "    i += 1\n",
    "    print(f\"Processing image {i} next..\")\n",
    "    break\n"
   ]
  },
  {
   "cell_type": "code",
   "execution_count": 91,
   "metadata": {},
   "outputs": [
    {
     "data": {
      "text/plain": [
       "54"
      ]
     },
     "execution_count": 91,
     "metadata": {},
     "output_type": "execute_result"
    }
   ],
   "source": [
    "len(\"../Data/retinal-lesions-v20191227/lesion_segs_896x896/\")"
   ]
  },
  {
   "cell_type": "code",
   "execution_count": 92,
   "metadata": {},
   "outputs": [
    {
     "name": "stdout",
     "output_type": "stream",
     "text": [
      "38296_left\n"
     ]
    }
   ],
   "source": [
    "print(\"../Data/retinal-lesions-v20191227/lesion_segs_896x896/38296_left\"[54:])"
   ]
  },
  {
   "cell_type": "code",
   "execution_count": 93,
   "metadata": {},
   "outputs": [
    {
     "ename": "NameError",
     "evalue": "name 'i' is not defined",
     "output_type": "error",
     "traceback": [
      "\u001b[0;31m---------------------------------------------------------------------------\u001b[0m",
      "\u001b[0;31mNameError\u001b[0m                                 Traceback (most recent call last)",
      "\u001b[0;32m<ipython-input-93-397d543883c5>\u001b[0m in \u001b[0;36m<module>\u001b[0;34m\u001b[0m\n\u001b[0;32m----> 1\u001b[0;31m \u001b[0mi\u001b[0m\u001b[0;34m\u001b[0m\u001b[0;34m\u001b[0m\u001b[0m\n\u001b[0m",
      "\u001b[0;31mNameError\u001b[0m: name 'i' is not defined"
     ]
    }
   ],
   "source": []
  },
  {
   "cell_type": "markdown",
   "metadata": {},
   "source": [
    "## 6 Example Image"
   ]
  },
  {
   "cell_type": "code",
   "execution_count": 94,
   "metadata": {},
   "outputs": [],
   "source": [
    "img_path = \"../Data/retinal-lesions-v20191227/images_896x896/9_left.jpg\"\n",
    "img = load_img(img_path)"
   ]
  },
  {
   "cell_type": "code",
   "execution_count": 100,
   "metadata": {},
   "outputs": [],
   "source": [
    "annotation_path = \"../Data/retinal-lesions-v20191227/lesion_segs_896x896/9_left/retinal_hemorrhage.png\"\n",
    "annotation = load_img(annotation_path)"
   ]
  },
  {
   "cell_type": "code",
   "execution_count": 101,
   "metadata": {},
   "outputs": [
    {
     "data": {
      "image/png": "[encoded data removed]",
      "text/plain": [
       "<PIL.Image.Image image mode=RGB size=896x896>"
      ]
     },
     "execution_count": 101,
     "metadata": {},
     "output_type": "execute_result"
    }
   ],
   "source": [
    "annotation"
   ]
  },
  {
   "cell_type": "code",
   "execution_count": 2,
   "metadata": {},
   "outputs": [],
   "source": [
    "t_path = \"../../../Data/retinal-lesions-v20191227/bw_annotations/9_left.png\"\n",
    "t_img = load_img(t_path)\n",
    "t_img = img_to_array(t_img)"
   ]
  },
  {
   "cell_type": "code",
   "execution_count": 3,
   "metadata": {},
   "outputs": [
    {
     "data": {
      "text/plain": [
       "array([[2., 2., 2.],\n",
       "       [2., 2., 2.],\n",
       "       [2., 2., 2.],\n",
       "       ...,\n",
       "       [4., 4., 4.],\n",
       "       [4., 4., 4.],\n",
       "       [4., 4., 4.]], dtype=float32)"
      ]
     },
     "execution_count": 3,
     "metadata": {},
     "output_type": "execute_result"
    }
   ],
   "source": [
    "c = np.nonzero(t_img)\n",
    "t_img[c[0], c[1], :]\n"
   ]
  },
  {
   "attachments": {},
   "cell_type": "markdown",
   "metadata": {},
   "source": [
    "## 7.Modifying the colors to be a bit darker"
   ]
  },
  {
   "cell_type": "code",
   "execution_count": 10,
   "metadata": {},
   "outputs": [],
   "source": [
    "cws_path = \"../../../Data/retinal-lesions-v20191227/lesion_segs_896x896/383_left/cotton_wool_spotsN.png\"\n",
    "he_path = \"../../../Data/retinal-lesions-v20191227/lesion_segs_896x896/383_left/hard_exudateN.png\"\n",
    "ma_path = \"../../../Data/retinal-lesions-v20191227/lesion_segs_896x896/383_left/microaneurysmN.png\"\n",
    "rhe_path = \"../../../Data/retinal-lesions-v20191227/lesion_segs_896x896/383_left/retinal_hemorrhageN.png\""
   ]
  },
  {
   "cell_type": "code",
   "execution_count": 26,
   "metadata": {},
   "outputs": [],
   "source": [
    "cws = cv2.imread(cws_path)\n",
    "cws = cv2.cvtColor(cws, cv2.COLOR_BGR2RGB)\n",
    "he = cv2.imread(he_path)\n",
    "he = cv2.cvtColor(he, cv2.COLOR_BGR2RGB)\n",
    "ma = cv2.imread(ma_path)\n",
    "ma = cv2.cvtColor(ma, cv2.COLOR_BGR2RGB)\n",
    "rhe = cv2.imread(rhe_path)\n",
    "rhe = cv2.cvtColor(rhe, cv2.COLOR_BGR2RGB)"
   ]
  },
  {
   "cell_type": "code",
   "execution_count": 27,
   "metadata": {},
   "outputs": [
    {
     "name": "stdout",
     "output_type": "stream",
     "text": [
      "[134 255 134]\n",
      "[255 243 138]\n",
      "[255 133 133]\n",
      "[138 221 255]\n"
     ]
    }
   ],
   "source": [
    "c = np.nonzero(cws)\n",
    "print(cws[c[0], c[1], :][0])\n",
    "c = np.nonzero(he)\n",
    "print(he[c[0], c[1], :][0])\n",
    "c = np.nonzero(ma)\n",
    "print(ma[c[0], c[1], :][0])\n",
    "c = np.nonzero(rhe)\n",
    "print(rhe[c[0], c[1], :][0])"
   ]
  },
  {
   "cell_type": "code",
   "execution_count": 103,
   "metadata": {},
   "outputs": [],
   "source": [
    "def color_swap(img, color_dict):\n",
    "\n",
    "    for og_color, chng_color in color_dict:\n",
    "        c = np.where(img[:, :, [1]] == og_color)\n",
    "        img[c[0], c[1], :] = chng_color\n",
    "    return img"
   ]
  },
  {
   "cell_type": "code",
   "execution_count": 108,
   "metadata": {},
   "outputs": [],
   "source": [
    "lesion_dict = \"../../../Data/retinal-lesions-v20191227/lesion_annotations_color/\"\n",
    "new_dir = \"../../../Data/retinal-lesions-v20191227/lesion_annotations_color_darker/\"\n",
    "\n",
    "color_pairs = [\n",
    "\n",
    "    (133,[20, 20, 224]),\n",
    "    (221,[217,22, 64]),\n",
    "]"
   ]
  },
  {
   "cell_type": "code",
   "execution_count": 109,
   "metadata": {},
   "outputs": [
    {
     "ename": "",
     "evalue": "",
     "output_type": "error",
     "traceback": [
      "\u001b[1;31mThe Kernel crashed while executing code in the the current cell or a previous cell. Please review the code in the cell(s) to identify a possible cause of the failure. Click <a href='https://aka.ms/vscodeJupyterKernelCrash'>here</a> for more info. View Jupyter <a href='command:jupyter.viewOutput'>log</a> for further details."
     ]
    }
   ],
   "source": [
    "for dp, di, fp, in os.walk(new_dir):\n",
    "\n",
    "    for f in fp:\n",
    "        \n",
    "        img_path = os.path.join(dp, f)\n",
    "        dst_path = os.path.join(new_dir, f)\n",
    "        img = cv2.imread(img_path)\n",
    "        #img = cv2.cvtColor(img, cv2.COLOR_BGR2RGB)\n",
    "        img = color_swap(img, color_pairs)\n",
    "        #img = cv2.cvtColor(img, cv2.COLOR_RGB2BGR)\n",
    "        cv2.imwrite(dst_path, img)"
   ]
  },
  {
   "cell_type": "code",
   "execution_count": 94,
   "metadata": {},
   "outputs": [],
   "source": [
    "test_img_path = \"../../../Data/retinal-lesions-v20191227/lesion_segs_896x896/99_right/hard_exudateN.png\"\n",
    "test_img = cv2.imread(test_img_path)\n",
    "test_img = cv2.cvtColor(test_img, cv2.COLOR_BGR2RGB)"
   ]
  },
  {
   "cell_type": "code",
   "execution_count": 101,
   "metadata": {},
   "outputs": [],
   "source": [
    "c = np.where(test_img[:, :, [1]] == )"
   ]
  },
  {
   "cell_type": "code",
   "execution_count": 102,
   "metadata": {},
   "outputs": [
    {
     "data": {
      "text/plain": [
       "(array([], dtype=int64), array([], dtype=int64), array([], dtype=int64))"
      ]
     },
     "execution_count": 102,
     "metadata": {},
     "output_type": "execute_result"
    }
   ],
   "source": [
    "c"
   ]
  },
  {
   "cell_type": "code",
   "execution_count": null,
   "metadata": {},
   "outputs": [],
   "source": []
  }
 ],
 "metadata": {
  "kernelspec": {
   "display_name": "Python 3.7.13 ('tf')",
   "language": "python",
   "name": "python3"
  },
  "language_info": {
   "codemirror_mode": {
    "name": "ipython",
    "version": 3
   },
   "file_extension": ".py",
   "mimetype": "text/x-python",
   "name": "python",
   "nbconvert_exporter": "python",
   "pygments_lexer": "ipython3",
   "version": "3.7.13 (default, Oct 18 2022, 13:40:53) \n[Clang 12.0.0 ]"
  },
  "orig_nbformat": 4,
  "vscode": {
   "interpreter": {
    "hash": "db96c7c19d6ddb955ec6ab14ba350af8085dd720a16eea0a08edd8c99e1901ff"
   }
  }
 },
 "nbformat": 4,
 "nbformat_minor": 2
}
