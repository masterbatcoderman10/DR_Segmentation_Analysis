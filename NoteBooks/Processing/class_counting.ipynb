{
 "cells": [
  {
   "cell_type": "code",
   "execution_count": 1,
   "metadata": {},
   "outputs": [],
   "source": [
    "import cv2\n",
    "import numpy as np\n",
    "import os"
   ]
  },
  {
   "cell_type": "code",
   "execution_count": 2,
   "metadata": {},
   "outputs": [],
   "source": [
    "data_path = \"../../../Data/retinal-lesions-v20191227/cleaned_annotations\""
   ]
  },
  {
   "cell_type": "code",
   "execution_count": 3,
   "metadata": {},
   "outputs": [],
   "source": [
    "lesion_classes = [\"cotton_wool_spots.png\", \"hard_exudate.png\", \"retinal_hemorrhage.png\", \"microaneurysm.png\"]\n",
    "class_counts = {lesion : 0 for lesion in lesion_classes}\n",
    "file_counts = {lesion : 0 for lesion in lesion_classes}"
   ]
  },
  {
   "cell_type": "code",
   "execution_count": 4,
   "metadata": {},
   "outputs": [],
   "source": [
    "for dp, di, fn in os.walk(data_path):\n",
    "\n",
    "    for f in fn:\n",
    "        if f == \".DS_Store\":\n",
    "            continue\n",
    "        \n",
    "        #Update the file count\n",
    "        file_counts[f] += 1\n",
    "\n",
    "        ann_path = os.path.join(dp, f)\n",
    "        ann = cv2.imread(ann_path, 0)\n",
    "\n",
    "        #Get the count of how many pixels of the lesion are there\n",
    "        lesion_count = np.count_nonzero(ann == 1)\n",
    "        class_counts[f] += lesion_count\n",
    "\n"
   ]
  },
  {
   "cell_type": "code",
   "execution_count": 5,
   "metadata": {},
   "outputs": [
    {
     "data": {
      "text/plain": [
       "{'cotton_wool_spots.png': 471,\n",
       " 'hard_exudate.png': 807,\n",
       " 'retinal_hemorrhage.png': 1302,\n",
       " 'microaneurysm.png': 1435}"
      ]
     },
     "execution_count": 5,
     "metadata": {},
     "output_type": "execute_result"
    }
   ],
   "source": [
    "file_counts"
   ]
  },
  {
   "cell_type": "code",
   "execution_count": 6,
   "metadata": {},
   "outputs": [
    {
     "data": {
      "text/plain": [
       "{'cotton_wool_spots.png': 2985363,\n",
       " 'hard_exudate.png': 15032977,\n",
       " 'retinal_hemorrhage.png': 21652096,\n",
       " 'microaneurysm.png': 8560921}"
      ]
     },
     "execution_count": 6,
     "metadata": {},
     "output_type": "execute_result"
    }
   ],
   "source": [
    "class_counts"
   ]
  },
  {
   "cell_type": "code",
   "execution_count": 9,
   "metadata": {},
   "outputs": [],
   "source": [
    "def get_weight(n_classes, class_count, n_files, h=512, w=512):\n",
    "\n",
    "\n",
    "    background = n_files * h * w\n",
    "    weight = background / (n_classes * class_count)\n",
    "    return weight\n",
    "\n",
    "class_weights = {lesion : get_weight(4, class_counts[lesion], 1575) for lesion in lesion_classes }"
   ]
  },
  {
   "cell_type": "markdown",
   "metadata": {},
   "source": [
    "The following are the weights for each of the 4 lesion classes"
   ]
  },
  {
   "cell_type": "code",
   "execution_count": 10,
   "metadata": {},
   "outputs": [
    {
     "data": {
      "text/plain": [
       "{'cotton_wool_spots.png': 34.57509187324958,\n",
       " 'hard_exudate.png': 6.866184921323302,\n",
       " 'retinal_hemorrhage.png': 4.767168961379074,\n",
       " 'microaneurysm.png': 12.057020500481197}"
      ]
     },
     "execution_count": 10,
     "metadata": {},
     "output_type": "execute_result"
    }
   ],
   "source": [
    "class_weights"
   ]
  },
  {
   "cell_type": "code",
   "execution_count": 34,
   "metadata": {},
   "outputs": [
    {
     "data": {
      "text/plain": [
       "21"
      ]
     },
     "execution_count": 34,
     "metadata": {},
     "output_type": "execute_result"
    }
   ],
   "source": [
    "621 % 60"
   ]
  },
  {
   "cell_type": "code",
   "execution_count": 35,
   "metadata": {},
   "outputs": [],
   "source": [
    "def to_mins(seconds):\n",
    "    return f\"{seconds // 60}:{seconds % 60}\""
   ]
  },
  {
   "cell_type": "code",
   "execution_count": 37,
   "metadata": {},
   "outputs": [
    {
     "data": {
      "text/plain": [
       "'62:48'"
      ]
     },
     "execution_count": 37,
     "metadata": {},
     "output_type": "execute_result"
    }
   ],
   "source": [
    "to_mins(3768)"
   ]
  },
  {
   "cell_type": "code",
   "execution_count": null,
   "metadata": {},
   "outputs": [],
   "source": []
  }
 ],
 "metadata": {
  "kernelspec": {
   "display_name": "Python 3.7.13 ('tf')",
   "language": "python",
   "name": "python3"
  },
  "language_info": {
   "codemirror_mode": {
    "name": "ipython",
    "version": 3
   },
   "file_extension": ".py",
   "mimetype": "text/x-python",
   "name": "python",
   "nbconvert_exporter": "python",
   "pygments_lexer": "ipython3",
   "version": "3.7.13"
  },
  "orig_nbformat": 4,
  "vscode": {
   "interpreter": {
    "hash": "db96c7c19d6ddb955ec6ab14ba350af8085dd720a16eea0a08edd8c99e1901ff"
   }
  }
 },
 "nbformat": 4,
 "nbformat_minor": 2
}
