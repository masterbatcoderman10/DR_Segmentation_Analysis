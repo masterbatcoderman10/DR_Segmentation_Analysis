{
 "cells": [
  {
   "cell_type": "code",
   "execution_count": 1,
   "metadata": {},
   "outputs": [
    {
     "name": "stderr",
     "output_type": "stream",
     "text": [
      "/Users/akhtar/opt/anaconda3/envs/condatorch/lib/python3.8/site-packages/tqdm/auto.py:22: TqdmWarning: IProgress not found. Please update jupyter and ipywidgets. See https://ipywidgets.readthedocs.io/en/stable/user_install.html\n",
      "  from .autonotebook import tqdm as notebook_tqdm\n"
     ]
    }
   ],
   "source": [
    "import torch"
   ]
  },
  {
   "cell_type": "code",
   "execution_count": 54,
   "metadata": {},
   "outputs": [],
   "source": [
    "pred = torch.rand(4, 5, 512, 512)\n",
    "#pred = torch.softmax(pred, dim=1)"
   ]
  },
  {
   "cell_type": "code",
   "execution_count": null,
   "metadata": {},
   "outputs": [],
   "source": []
  },
  {
   "cell_type": "code",
   "execution_count": 55,
   "metadata": {},
   "outputs": [
    {
     "data": {
      "text/plain": [
       "torch.Size([4, 5, 512, 512])"
      ]
     },
     "execution_count": 55,
     "metadata": {},
     "output_type": "execute_result"
    }
   ],
   "source": [
    "pred.shape"
   ]
  },
  {
   "cell_type": "code",
   "execution_count": 56,
   "metadata": {},
   "outputs": [],
   "source": [
    "p = torch.sum(pred, dim=(2, 3)) / (512 * 512)"
   ]
  },
  {
   "cell_type": "code",
   "execution_count": 57,
   "metadata": {},
   "outputs": [
    {
     "data": {
      "text/plain": [
       "tensor([[0.4996, 0.5008, 0.5004, 0.4995, 0.5010],\n",
       "        [0.5004, 0.4999, 0.5002, 0.5005, 0.5003],\n",
       "        [0.4994, 0.5000, 0.5007, 0.4996, 0.4998],\n",
       "        [0.5001, 0.4998, 0.4997, 0.5009, 0.5000]])"
      ]
     },
     "execution_count": 57,
     "metadata": {},
     "output_type": "execute_result"
    }
   ],
   "source": [
    "p"
   ]
  },
  {
   "cell_type": "code",
   "execution_count": 58,
   "metadata": {},
   "outputs": [],
   "source": [
    "y = torch.mean(pred, dim=(2,3)) "
   ]
  },
  {
   "cell_type": "code",
   "execution_count": 59,
   "metadata": {},
   "outputs": [
    {
     "data": {
      "text/plain": [
       "tensor([[0.4996, 0.5008, 0.5004, 0.4995, 0.5010],\n",
       "        [0.5004, 0.4999, 0.5002, 0.5005, 0.5003],\n",
       "        [0.4994, 0.5000, 0.5007, 0.4996, 0.4998],\n",
       "        [0.5001, 0.4998, 0.4997, 0.5009, 0.5000]])"
      ]
     },
     "execution_count": 59,
     "metadata": {},
     "output_type": "execute_result"
    }
   ],
   "source": [
    "y"
   ]
  },
  {
   "cell_type": "code",
   "execution_count": 40,
   "metadata": {},
   "outputs": [],
   "source": [
    "x = torch.mean(pred, dim=(2, 3))\n",
    "x = x / torch.sum(x, dim=1, keepdim=True)"
   ]
  },
  {
   "cell_type": "code",
   "execution_count": 41,
   "metadata": {},
   "outputs": [
    {
     "data": {
      "text/plain": [
       "tensor([[0.2001, 0.2001, 0.1998, 0.1999, 0.2001],\n",
       "        [0.1997, 0.2001, 0.2001, 0.2000, 0.2000],\n",
       "        [0.1997, 0.2001, 0.1998, 0.2002, 0.2002],\n",
       "        [0.1999, 0.2001, 0.2001, 0.2001, 0.1998]])"
      ]
     },
     "execution_count": 41,
     "metadata": {},
     "output_type": "execute_result"
    }
   ],
   "source": [
    "x"
   ]
  },
  {
   "cell_type": "code",
   "execution_count": 42,
   "metadata": {},
   "outputs": [],
   "source": [
    "z = pred.sum(dim=(2,3))\n",
    "z = z / z.sum(dim=1, keepdim=True)"
   ]
  },
  {
   "cell_type": "code",
   "execution_count": 43,
   "metadata": {},
   "outputs": [
    {
     "data": {
      "text/plain": [
       "tensor([[0.2001, 0.2001, 0.1998, 0.1999, 0.2001],\n",
       "        [0.1997, 0.2001, 0.2001, 0.2000, 0.2000],\n",
       "        [0.1997, 0.2001, 0.1998, 0.2002, 0.2002],\n",
       "        [0.1999, 0.2001, 0.2001, 0.2001, 0.1998]])"
      ]
     },
     "execution_count": 43,
     "metadata": {},
     "output_type": "execute_result"
    }
   ],
   "source": [
    "z"
   ]
  },
  {
   "cell_type": "code",
   "execution_count": 52,
   "metadata": {},
   "outputs": [],
   "source": [
    "l = pred.mean(dim=2).mean(dim=2)"
   ]
  },
  {
   "cell_type": "code",
   "execution_count": 53,
   "metadata": {},
   "outputs": [
    {
     "data": {
      "text/plain": [
       "tensor([[0.5003, 0.5003, 0.4997, 0.5000, 0.5003],\n",
       "        [0.4987, 0.4997, 0.4997, 0.4994, 0.4994],\n",
       "        [0.4991, 0.5001, 0.4993, 0.5005, 0.5004],\n",
       "        [0.4998, 0.5003, 0.5004, 0.5003, 0.4995]])"
      ]
     },
     "execution_count": 53,
     "metadata": {},
     "output_type": "execute_result"
    }
   ],
   "source": [
    "l"
   ]
  },
  {
   "cell_type": "code",
   "execution_count": null,
   "metadata": {},
   "outputs": [],
   "source": []
  }
 ],
 "metadata": {
  "kernelspec": {
   "display_name": "Python 3.8.13 ('condatorch')",
   "language": "python",
   "name": "python3"
  },
  "language_info": {
   "codemirror_mode": {
    "name": "ipython",
    "version": 3
   },
   "file_extension": ".py",
   "mimetype": "text/x-python",
   "name": "python",
   "nbconvert_exporter": "python",
   "pygments_lexer": "ipython3",
   "version": "3.8.13"
  },
  "orig_nbformat": 4,
  "vscode": {
   "interpreter": {
    "hash": "99e5acb3856f6305f99fb5a2748a7d968f1ebcc7ceb39392309b10440f3adee4"
   }
  }
 },
 "nbformat": 4,
 "nbformat_minor": 2
}
