{
 "cells": [
  {
   "cell_type": "code",
   "execution_count": 1,
   "metadata": {},
   "outputs": [
    {
     "name": "stderr",
     "output_type": "stream",
     "text": [
      "/Users/akhtar/opt/anaconda3/envs/condatorch/lib/python3.8/site-packages/tqdm/auto.py:22: TqdmWarning: IProgress not found. Please update jupyter and ipywidgets. See https://ipywidgets.readthedocs.io/en/stable/user_install.html\n",
      "  from .autonotebook import tqdm as notebook_tqdm\n"
     ]
    }
   ],
   "source": [
    "import torch\n",
    "import torch.nn as nn"
   ]
  },
  {
   "cell_type": "code",
   "execution_count": 2,
   "metadata": {},
   "outputs": [],
   "source": [
    "class SpatialAttention(nn.Module):\n",
    "\n",
    "    def __init__(self, input_shape):\n",
    "\n",
    "        super(SpatialAttention, self).__init__()\n",
    "\n",
    "        self.C = input_shape[0]\n",
    "        self.H = input_shape[1]\n",
    "        self.W = input_shape[2]\n",
    "\n",
    "        self.alpha = nn.Parameter(torch.tensor(0.0))\n",
    "\n",
    "        self.conv1 = nn.Conv2d(in_channels=self.C, out_channels=self.C, kernel_size=1, stride=1)\n",
    "        self.conv2 = nn.Conv2d(in_channels=self.C, out_channels=self.C, kernel_size=1, stride=1)\n",
    "        self.conv3 = nn.Conv2d(in_channels=self.C, out_channels=self.C, kernel_size=1, stride=1)\n",
    "\n",
    "    \n",
    "    def forward(self, x):\n",
    "\n",
    "        N = self.H * self.W\n",
    "\n",
    "        a = x\n",
    "        b = self.conv1(x)\n",
    "        c = self.conv2(x)\n",
    "        d = self.conv3(x)\n",
    "\n",
    "        b = b.view(-1, self.C, N)\n",
    "        c = c.view(-1, self.C, N)\n",
    "        d = d.view(-1, self.C, N)\n",
    "\n",
    "        c = torch.bmm(c.transpose(1, 2), b)\n",
    "        S = nn.Softmax()(c)\n",
    "        S = S.transpose(1, 2)\n",
    "\n",
    "        d = self.alpha * torch.bmm(d, S)\n",
    "        d = d.view(-1, self.C, self.H, self.W)\n",
    "        E = a + d\n",
    "\n",
    "        return E"
   ]
  },
  {
   "cell_type": "code",
   "execution_count": 3,
   "metadata": {},
   "outputs": [],
   "source": [
    "sa = SpatialAttention((64, 256, 256))"
   ]
  },
  {
   "cell_type": "code",
   "execution_count": 4,
   "metadata": {},
   "outputs": [],
   "source": [
    "test = torch.zeros((1, 64, 256, 256))"
   ]
  },
  {
   "cell_type": "code",
   "execution_count": 5,
   "metadata": {},
   "outputs": [
    {
     "name": "stderr",
     "output_type": "stream",
     "text": [
      "/var/folders/bc/r1pyyphx6d995_mdzms6_13c0000gn/T/ipykernel_3826/4085155528.py:32: UserWarning: Implicit dimension choice for softmax has been deprecated. Change the call to include dim=X as an argument.\n",
      "  S = nn.Softmax()(c)\n"
     ]
    },
    {
     "ename": "",
     "evalue": "",
     "output_type": "error",
     "traceback": [
      "\u001b[1;31mCanceled future for execute_request message before replies were done"
     ]
    },
    {
     "ename": "",
     "evalue": "",
     "output_type": "error",
     "traceback": [
      "\u001b[1;31mThe Kernel crashed while executing code in the the current cell or a previous cell. Please review the code in the cell(s) to identify a possible cause of the failure. Click <a href='https://aka.ms/vscodeJupyterKernelCrash'>here</a> for more info. View Jupyter <a href='command:jupyter.viewOutput'>log</a> for further details."
     ]
    }
   ],
   "source": [
    "e = sa(test)"
   ]
  },
  {
   "attachments": {},
   "cell_type": "markdown",
   "metadata": {},
   "source": [
    "### Channel-Split Attention"
   ]
  },
  {
   "cell_type": "code",
   "execution_count": null,
   "metadata": {},
   "outputs": [],
   "source": [
    "class CSA(nn.Module):\n",
    "\n",
    "    def __init__(self, in_channels):\n",
    "\n",
    "        self.C = in_channels\n",
    "        self.conv_1 = nn.Conv2d(in_channels, in_channels, 1)\n",
    "        self.conv_3x3_1 = nn.Conv2d(in_channels / 2, in_channels / 2, 3, 1, \"same\")\n",
    "        self.conv_3x3_2 = nn.Conv2d(in_channels / 2, in_channels / 2, 3, 1, \"same\")\n",
    "        self.conv_3x3_3 = nn.Conv2d(in_channels, in_channels / 2, 3, 1, \"same\")\n",
    "\n",
    "        self.group_1 = nn.Conv2d(in_channels / 2, in_channels, 1, 1)\n",
    "        self.bn = nn.BatchNorm2d(in_channels)\n",
    "        self.relu = nn.ReLU()\n",
    "        self.group_2 = nn.Conv2d(in_channels, in_channels, 1, 1)\n",
    "        self.softmax = nn.Softmax(dim=1)\n",
    "        self.final_conv = nn.Conv2d(in_channels, in_channels, 1, 1)\n",
    "\n",
    "    def forward(self, input):\n",
    "\n",
    "        H = input.shape[2]\n",
    "        W = input.shape[3]\n",
    "\n",
    "        N = H * W\n",
    "\n",
    "        F = self.conv_1(input)\n",
    "        F_1, F_2 = F.split(self.C / 2, dim=1)\n",
    "\n",
    "        F_1 = self.conv_3x3_1(F_1)\n",
    "        F_2 = self.conv_3x3_2(F_2)\n",
    "        F_2 = torch.concat([F_1, F_2], dim=1)\n",
    "        F_2 = self.conv_3x3_3(F_2)\n",
    "\n",
    "        F = torch.concat([F_1, F_2], dim=1)\n",
    "\n",
    "        #Global maxpooling\n",
    "        F = torch.mean(F, dim=(2,3))\n",
    "\n",
    "        F = self.group_1(F)\n",
    "        F = self.bn(F)\n",
    "        F = self.relu(F)\n",
    "        F = self.group_2(F)\n",
    "\n",
    "        F_1_s, F_2_s = F.split(self.C / 2, dim=1)\n",
    "\n",
    "        F_1_s = self.softmax(F_1)\n",
    "        F_2_s = self.softmax(F_2)\n",
    "\n",
    "        F_1_final = F_1 * F_1_s\n",
    "        F_2_final = F_2 * F_2_s\n",
    "\n",
    "        F_final = torch.concat([F_1_final, F_2_final], dim=1)\n",
    "        F_final = self.final_conv(F_final)\n",
    "\n",
    "        output = F_final + input\n",
    "\n",
    "        return output"
   ]
  },
  {
   "cell_type": "code",
   "execution_count": 2,
   "metadata": {},
   "outputs": [],
   "source": [
    "test = torch.zeros(4, 512, 32, 32)"
   ]
  },
  {
   "cell_type": "code",
   "execution_count": 3,
   "metadata": {},
   "outputs": [],
   "source": [
    "ta = torch.concat([test, test], dim=1)"
   ]
  },
  {
   "cell_type": "code",
   "execution_count": 4,
   "metadata": {},
   "outputs": [
    {
     "data": {
      "text/plain": [
       "torch.Size([4, 1024, 32, 32])"
      ]
     },
     "execution_count": 4,
     "metadata": {},
     "output_type": "execute_result"
    }
   ],
   "source": [
    "ta.shape"
   ]
  },
  {
   "cell_type": "code",
   "execution_count": null,
   "metadata": {},
   "outputs": [],
   "source": []
  }
 ],
 "metadata": {
  "kernelspec": {
   "display_name": "Python 3.8.13 ('condatorch')",
   "language": "python",
   "name": "python3"
  },
  "language_info": {
   "codemirror_mode": {
    "name": "ipython",
    "version": 3
   },
   "file_extension": ".py",
   "mimetype": "text/x-python",
   "name": "python",
   "nbconvert_exporter": "python",
   "pygments_lexer": "ipython3",
   "version": "3.8.13 (default, Oct 19 2022, 17:54:22) \n[Clang 12.0.0 ]"
  },
  "orig_nbformat": 4,
  "vscode": {
   "interpreter": {
    "hash": "99e5acb3856f6305f99fb5a2748a7d968f1ebcc7ceb39392309b10440f3adee4"
   }
  }
 },
 "nbformat": 4,
 "nbformat_minor": 2
}
