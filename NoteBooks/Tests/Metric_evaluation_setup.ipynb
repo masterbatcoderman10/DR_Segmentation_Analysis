{
 "cells": [
  {
   "cell_type": "code",
   "execution_count": 19,
   "metadata": {},
   "outputs": [],
   "source": [
    "import torch\n",
    "from torchmetrics.classification import BinaryJaccardIndex, BinaryAccuracy\n",
    "import numpy as np"
   ]
  },
  {
   "cell_type": "code",
   "execution_count": 25,
   "metadata": {},
   "outputs": [],
   "source": [
    "t_1 = torch.Tensor([[[0,0,0], [0,1,0], [0,0,0]], [[0,0,0], [0,1,0], [0,0,0]]])\n",
    "t_2 = torch.Tensor([[[1,1,1], [0,1,0], [0,0,0]], [[0,0,0], [0,0,0], [0,0,0]]])"
   ]
  },
  {
   "cell_type": "code",
   "execution_count": 26,
   "metadata": {},
   "outputs": [],
   "source": [
    "iou = BinaryJaccardIndex(threshold=0.8)\n",
    "acc = BinaryAccuracy(threshold=0.8)"
   ]
  },
  {
   "cell_type": "code",
   "execution_count": 27,
   "metadata": {},
   "outputs": [
    {
     "name": "stdout",
     "output_type": "stream",
     "text": [
      "The accuracy is : 0.7777777910232544\n",
      "The IoU is : 0.20000000298023224\n"
     ]
    }
   ],
   "source": [
    "print(f\"The accuracy is : {acc(t_2, t_1)}\")\n",
    "print(f\"The IoU is : {iou(t_2, t_1)}\")"
   ]
  },
  {
   "cell_type": "code",
   "execution_count": 21,
   "metadata": {},
   "outputs": [
    {
     "ename": "TypeError",
     "evalue": "mean(): argument 'input' (position 1) must be Tensor, not list",
     "output_type": "error",
     "traceback": [
      "\u001b[0;31m---------------------------------------------------------------------------\u001b[0m",
      "\u001b[0;31mTypeError\u001b[0m                                 Traceback (most recent call last)",
      "Cell \u001b[0;32mIn [21], line 1\u001b[0m\n\u001b[0;32m----> 1\u001b[0m torch\u001b[39m.\u001b[39;49mmean([acc(t_2, t_1)])\n",
      "\u001b[0;31mTypeError\u001b[0m: mean(): argument 'input' (position 1) must be Tensor, not list"
     ]
    }
   ],
   "source": [
    "torch.mean([acc(t_2, t_1)])"
   ]
  },
  {
   "cell_type": "code",
   "execution_count": null,
   "metadata": {},
   "outputs": [],
   "source": []
  }
 ],
 "metadata": {
  "kernelspec": {
   "display_name": "new_tf",
   "language": "python",
   "name": "python3"
  },
  "language_info": {
   "codemirror_mode": {
    "name": "ipython",
    "version": 3
   },
   "file_extension": ".py",
   "mimetype": "text/x-python",
   "name": "python",
   "nbconvert_exporter": "python",
   "pygments_lexer": "ipython3",
   "version": "3.10.8 (main, Nov 24 2022, 08:09:04) [Clang 14.0.6 ]"
  },
  "orig_nbformat": 4,
  "vscode": {
   "interpreter": {
    "hash": "bb069ff34012d458b5eb20a85b95797b4df236ea79d8b3eff8207161e81306be"
   }
  }
 },
 "nbformat": 4,
 "nbformat_minor": 2
}
