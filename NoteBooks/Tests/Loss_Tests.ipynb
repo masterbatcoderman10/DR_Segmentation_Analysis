{
 "cells": [
  {
   "cell_type": "code",
   "execution_count": 12,
   "metadata": {},
   "outputs": [],
   "source": [
    "import numpy as np\n",
    "import tensorflow as tf\n",
    "from tensorflow.keras.utils import load_img, img_to_array, array_to_img, to_categorical\n",
    "import tensorflow.keras.backend as K"
   ]
  },
  {
   "cell_type": "markdown",
   "metadata": {},
   "source": [
    "## Dice Loss"
   ]
  },
  {
   "cell_type": "markdown",
   "metadata": {},
   "source": [
    "### Data synthesis\n",
    "\n",
    "This is false synthesis of ground truth and predicion data.\n",
    "- The ground truth is data that is sampled from a uniform distribution with the minimum of 0 and the maximum of 2, corresponding to 3 classes. These values are then encoded in one-hot form\n",
    "- The predicion data is data is also sampled from a uniform distribution with the minimum of 0 and the maximum of 2 however it's sampled with 3 dimensions to produce replicate probability scores, then the softmax function is applied to the data to convert it into bounded probabilities.\n",
    "\n",
    "Moreover, the data is such that it is batched as 32 synthetic images"
   ]
  },
  {
   "cell_type": "code",
   "execution_count": 262,
   "metadata": {},
   "outputs": [],
   "source": [
    "y_true = np.round(np.random.uniform(0, 2, (32, 224, 224, 1)))\n",
    "y_true = tf.one_hot(y_true, depth=3, axis=-1)\n",
    "y_true = tf.squeeze(y_true)\n",
    "y_pred = np.random.uniform(0, 10, (32, 224, 224, 3))\n",
    "#y_pred = np.zeros((224,224,3))\n",
    "y_pred = tf.nn.softmax(y_pred)\n",
    "y_pred = tf.cast(y_pred, tf.float32)\n",
    "#y_pred = tf.one_hot(y_pred, depth=3, axis=-1)\n",
    "#y_pred = tf.squeeze(y_pred)"
   ]
  },
  {
   "cell_type": "markdown",
   "metadata": {},
   "source": [
    "### Manually synthesized data\n",
    "\n",
    "This data has been manually synthesized rather than being sampled from a distribution."
   ]
  },
  {
   "cell_type": "code",
   "execution_count": 220,
   "metadata": {},
   "outputs": [
    {
     "data": {
      "text/plain": [
       "(224, 224, 3)"
      ]
     },
     "execution_count": 220,
     "metadata": {},
     "output_type": "execute_result"
    }
   ],
   "source": [
    "y_pred = np.array([[[0.05, 0.9, 0.05]]])\n",
    "y_pred = np.repeat(y_pred, (224), axis=1)\n",
    "y_pred = np.repeat(y_pred, (224), axis=0)\n",
    "y_pred.shape"
   ]
  },
  {
   "cell_type": "code",
   "execution_count": 221,
   "metadata": {},
   "outputs": [
    {
     "data": {
      "text/plain": [
       "array([0.05, 0.9 , 0.05])"
      ]
     },
     "execution_count": 221,
     "metadata": {},
     "output_type": "execute_result"
    }
   ],
   "source": [
    "y_pred[0,0]"
   ]
  },
  {
   "cell_type": "markdown",
   "metadata": {},
   "source": [
    "### Computing the dice loss between just 2 images"
   ]
  },
  {
   "cell_type": "code",
   "execution_count": 254,
   "metadata": {},
   "outputs": [],
   "source": [
    "#Implementation with just single image\n",
    "numerator = y_true[0] * y_pred[0] # Broadcasting\n",
    "numerator = tf.reduce_sum(numerator, axis=0)\n",
    "numerator = 2 * tf.reduce_sum(numerator, axis=0)\n",
    "denominator = (y_true[0] + y_pred[0])# Broadcasting\n",
    "denominator = tf.reduce_sum(denominator, axis=0)\n",
    "denominator = tf.reduce_sum(denominator, axis=0)\n",
    "\n",
    "frac = numerator / denominator\n",
    "dice_coef = tf.reduce_mean(frac)\n",
    "\n",
    "\n",
    "loss = 1 - dice_coef"
   ]
  },
  {
   "cell_type": "code",
   "execution_count": 256,
   "metadata": {},
   "outputs": [
    {
     "data": {
      "text/plain": [
       "<tf.Tensor: shape=(), dtype=float32, numpy=0.6767421>"
      ]
     },
     "execution_count": 256,
     "metadata": {},
     "output_type": "execute_result"
    }
   ],
   "source": [
    "loss"
   ]
  },
  {
   "cell_type": "markdown",
   "metadata": {},
   "source": [
    "### Dice loss computation by batch"
   ]
  },
  {
   "cell_type": "code",
   "execution_count": 259,
   "metadata": {},
   "outputs": [],
   "source": [
    "#Implementation with batched data\n",
    "numerator = y_true * y_pred # Broadcasting\n",
    "numerator = tf.reduce_sum(numerator, axis=1)\n",
    "numerator = 2 * tf.reduce_sum(numerator, axis=1)\n",
    "denominator = (y_true + y_pred)# Broadcasting\n",
    "denominator = tf.reduce_sum(denominator, axis=1)\n",
    "denominator = tf.reduce_sum(denominator, axis=1)\n",
    "\n",
    "frac = numerator / denominator\n",
    "frac = tf.reduce_mean(frac, axis=1)\n",
    "\n",
    "dice_coef = frac\n",
    "loss = 1 - dice_coef"
   ]
  },
  {
   "cell_type": "code",
   "execution_count": 261,
   "metadata": {},
   "outputs": [
    {
     "data": {
      "text/plain": [
       "<tf.Tensor: shape=(32,), dtype=float32, numpy=\n",
       "array([0.6767421 , 0.67647696, 0.67619085, 0.67637753, 0.675279  ,\n",
       "       0.67679393, 0.6769104 , 0.6761048 , 0.67713714, 0.67621017,\n",
       "       0.6761075 , 0.67689705, 0.67631686, 0.67643476, 0.67648935,\n",
       "       0.6768576 , 0.6771984 , 0.6760597 , 0.67442226, 0.6759293 ,\n",
       "       0.6770885 , 0.6757326 , 0.6749605 , 0.674934  , 0.6753901 ,\n",
       "       0.6757736 , 0.6767249 , 0.67697144, 0.67581034, 0.676671  ,\n",
       "       0.67657244, 0.676347  ], dtype=float32)>"
      ]
     },
     "execution_count": 261,
     "metadata": {},
     "output_type": "execute_result"
    }
   ],
   "source": [
    "loss"
   ]
  },
  {
   "cell_type": "code",
   "execution_count": 230,
   "metadata": {},
   "outputs": [],
   "source": [
    "numerator = y_true * y_pred # Broadcasting\n",
    "numerator = 2. * tf.reduce_sum(numerator)\n",
    "\n",
    "denominator = (y_true + y_pred)# Broadcasting\n",
    "denominator = tf.reduce_sum(denominator)\n",
    "\n",
    "loss = 1 - numerator / denominator"
   ]
  },
  {
   "cell_type": "code",
   "execution_count": 232,
   "metadata": {},
   "outputs": [
    {
     "data": {
      "text/plain": [
       "<tf.Tensor: shape=(), dtype=float32, numpy=-71.51459>"
      ]
     },
     "execution_count": 232,
     "metadata": {},
     "output_type": "execute_result"
    }
   ],
   "source": [
    "loss"
   ]
  },
  {
   "cell_type": "code",
   "execution_count": 134,
   "metadata": {},
   "outputs": [
    {
     "data": {
      "text/plain": [
       "<tf.Tensor: shape=(), dtype=float32, numpy=0.5>"
      ]
     },
     "execution_count": 134,
     "metadata": {},
     "output_type": "execute_result"
    }
   ],
   "source": [
    "(1 - numerator / denominator)"
   ]
  },
  {
   "cell_type": "markdown",
   "metadata": {},
   "source": [
    "## Experiments with Categorical Crossentropy"
   ]
  },
  {
   "cell_type": "code",
   "execution_count": 87,
   "metadata": {},
   "outputs": [],
   "source": [
    "loss = tf.reduce_mean(tf.keras.losses.categorical_crossentropy(y_true, y_pred, axis = 2))"
   ]
  },
  {
   "cell_type": "code",
   "execution_count": 88,
   "metadata": {},
   "outputs": [
    {
     "data": {
      "text/plain": [
       "<tf.Tensor: shape=(), dtype=float32, numpy=1.2052753>"
      ]
     },
     "execution_count": 88,
     "metadata": {},
     "output_type": "execute_result"
    }
   ],
   "source": [
    "loss"
   ]
  },
  {
   "cell_type": "code",
   "execution_count": 105,
   "metadata": {},
   "outputs": [],
   "source": [
    "ce = -1 * tf.reduce_sum(y_true * np.log(y_pred), axis=2)"
   ]
  },
  {
   "cell_type": "code",
   "execution_count": 108,
   "metadata": {},
   "outputs": [],
   "source": [
    "ce = tf.reduce_mean(ce)"
   ]
  },
  {
   "cell_type": "code",
   "execution_count": 109,
   "metadata": {},
   "outputs": [
    {
     "data": {
      "text/plain": [
       "<tf.Tensor: shape=(), dtype=float32, numpy=1.2068808>"
      ]
     },
     "execution_count": 109,
     "metadata": {},
     "output_type": "execute_result"
    }
   ],
   "source": [
    "ce"
   ]
  },
  {
   "cell_type": "code",
   "execution_count": null,
   "metadata": {},
   "outputs": [],
   "source": []
  }
 ],
 "metadata": {
  "kernelspec": {
   "display_name": "Python 3.8.13 ('condatorch')",
   "language": "python",
   "name": "python3"
  },
  "language_info": {
   "codemirror_mode": {
    "name": "ipython",
    "version": 3
   },
   "file_extension": ".py",
   "mimetype": "text/x-python",
   "name": "python",
   "nbconvert_exporter": "python",
   "pygments_lexer": "ipython3",
   "version": "3.8.13"
  },
  "orig_nbformat": 4,
  "vscode": {
   "interpreter": {
    "hash": "99e5acb3856f6305f99fb5a2748a7d968f1ebcc7ceb39392309b10440f3adee4"
   }
  }
 },
 "nbformat": 4,
 "nbformat_minor": 2
}
