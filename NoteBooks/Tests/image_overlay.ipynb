{
 "cells": [
  {
   "cell_type": "code",
   "execution_count": 1,
   "metadata": {},
   "outputs": [],
   "source": [
    "import numpy as np\n",
    "import cv2\n",
    "from PIL import Image\n"
   ]
  },
  {
   "cell_type": "code",
   "execution_count": 119,
   "metadata": {},
   "outputs": [],
   "source": [
    "main_path = \"./main.png\"\n",
    "overlay_path = \"./overlay.png\""
   ]
  },
  {
   "cell_type": "code",
   "execution_count": 179,
   "metadata": {},
   "outputs": [],
   "source": [
    "main = cv2.imread(main_path)\n",
    "#main = cv2.cvtColor(main, cv2.COLOR_BGR2RGB)\n",
    "main = cv2.cvtColor(main, cv2.COLOR_BGR2RGBA)\n",
    "\n",
    "overlay = cv2.imread(overlay_path)\n",
    "#overlay = cv2.cvtColor(overlay, cv2.COLOR_BGR2RGB)\n",
    "overlay = cv2.cvtColor(overlay, cv2.COLOR_BGR2RGBA)"
   ]
  },
  {
   "cell_type": "code",
   "execution_count": 180,
   "metadata": {},
   "outputs": [
    {
     "data": {
      "text/plain": [
       "(300, 300, 4)"
      ]
     },
     "execution_count": 180,
     "metadata": {},
     "output_type": "execute_result"
    }
   ],
   "source": [
    "overlay.shape"
   ]
  },
  {
   "cell_type": "code",
   "execution_count": null,
   "metadata": {},
   "outputs": [],
   "source": []
  },
  {
   "cell_type": "code",
   "execution_count": 181,
   "metadata": {},
   "outputs": [],
   "source": [
    "c = np.where(overlay[:,:,[0,1,2]] == [255,255,255])\n",
    "c_2 = np.where(overlay[:,:,[0,1,2]] != [255,255,255])\n",
    "overlay[c[0], c[1],-1] = 0\n",
    "overlay[c_2[0], c_2[1],-1] = 100\n"
   ]
  },
  {
   "cell_type": "code",
   "execution_count": null,
   "metadata": {},
   "outputs": [],
   "source": []
  },
  {
   "cell_type": "code",
   "execution_count": 182,
   "metadata": {},
   "outputs": [
    {
     "data": {
      "text/plain": [
       "True"
      ]
     },
     "execution_count": 182,
     "metadata": {},
     "output_type": "execute_result"
    }
   ],
   "source": [
    "cv2.imwrite(\"overlay2.png\",overlay)"
   ]
  },
  {
   "cell_type": "code",
   "execution_count": 183,
   "metadata": {},
   "outputs": [
    {
     "data": {
      "text/plain": [
       "True"
      ]
     },
     "execution_count": 183,
     "metadata": {},
     "output_type": "execute_result"
    }
   ],
   "source": [
    "comb =  main + overlay\n",
    "cv2.imwrite(\"overlay_ex.png\", comb)"
   ]
  },
  {
   "cell_type": "code",
   "execution_count": 184,
   "metadata": {},
   "outputs": [
    {
     "data": {
      "text/plain": [
       "array([[[254, 254, 254, 255],\n",
       "        [254, 254, 254, 255],\n",
       "        [254, 254, 254, 255],\n",
       "        ...,\n",
       "        [254, 254, 254, 255],\n",
       "        [254, 254, 254, 255],\n",
       "        [254, 254, 254, 255]],\n",
       "\n",
       "       [[254, 254, 254, 255],\n",
       "        [254, 254, 254, 255],\n",
       "        [254, 254, 254, 255],\n",
       "        ...,\n",
       "        [254, 254, 254, 255],\n",
       "        [254, 254, 254, 255],\n",
       "        [254, 254, 254, 255]],\n",
       "\n",
       "       [[254, 254, 254, 255],\n",
       "        [254, 254, 254, 255],\n",
       "        [254, 254, 254, 255],\n",
       "        ...,\n",
       "        [254, 254, 254, 255],\n",
       "        [254, 254, 254, 255],\n",
       "        [254, 254, 254, 255]],\n",
       "\n",
       "       ...,\n",
       "\n",
       "       [[254, 254, 254, 255],\n",
       "        [254, 254, 254, 255],\n",
       "        [254, 254, 254, 255],\n",
       "        ...,\n",
       "        [254, 254, 254, 255],\n",
       "        [254, 254, 254, 255],\n",
       "        [254, 254, 254, 255]],\n",
       "\n",
       "       [[254, 254, 254, 255],\n",
       "        [254, 254, 254, 255],\n",
       "        [254, 254, 254, 255],\n",
       "        ...,\n",
       "        [254, 254, 254, 255],\n",
       "        [254, 254, 254, 255],\n",
       "        [254, 254, 254, 255]],\n",
       "\n",
       "       [[254, 254, 254, 255],\n",
       "        [254, 254, 254, 255],\n",
       "        [254, 254, 254, 255],\n",
       "        ...,\n",
       "        [254, 254, 254, 255],\n",
       "        [254, 254, 254, 255],\n",
       "        [254, 254, 254, 255]]], dtype=uint8)"
      ]
     },
     "execution_count": 184,
     "metadata": {},
     "output_type": "execute_result"
    }
   ],
   "source": [
    "comb"
   ]
  },
  {
   "cell_type": "code",
   "execution_count": 185,
   "metadata": {},
   "outputs": [],
   "source": [
    "overlay = Image.open(\"./overlay2.png\")\n",
    "overlay = overlay.convert(\"RGBA\")\n",
    "main = Image.open(\"./main.png\")\n",
    "main = main.convert(\"RGBA\")"
   ]
  },
  {
   "cell_type": "code",
   "execution_count": 186,
   "metadata": {},
   "outputs": [],
   "source": [
    "main.paste(overlay, (0,0), overlay)"
   ]
  },
  {
   "cell_type": "code",
   "execution_count": 187,
   "metadata": {},
   "outputs": [],
   "source": [
    "main.show()"
   ]
  },
  {
   "cell_type": "code",
   "execution_count": 100,
   "metadata": {},
   "outputs": [],
   "source": [
    "info = overlay.info"
   ]
  },
  {
   "cell_type": "code",
   "execution_count": 101,
   "metadata": {},
   "outputs": [
    {
     "data": {
      "text/plain": [
       "{}"
      ]
     },
     "execution_count": 101,
     "metadata": {},
     "output_type": "execute_result"
    }
   ],
   "source": [
    "info"
   ]
  },
  {
   "cell_type": "code",
   "execution_count": null,
   "metadata": {},
   "outputs": [],
   "source": []
  }
 ],
 "metadata": {
  "kernelspec": {
   "display_name": "Python 3.7.13 ('tf')",
   "language": "python",
   "name": "python3"
  },
  "language_info": {
   "codemirror_mode": {
    "name": "ipython",
    "version": 3
   },
   "file_extension": ".py",
   "mimetype": "text/x-python",
   "name": "python",
   "nbconvert_exporter": "python",
   "pygments_lexer": "ipython3",
   "version": "3.7.13"
  },
  "orig_nbformat": 4,
  "vscode": {
   "interpreter": {
    "hash": "db96c7c19d6ddb955ec6ab14ba350af8085dd720a16eea0a08edd8c99e1901ff"
   }
  }
 },
 "nbformat": 4,
 "nbformat_minor": 2
}
