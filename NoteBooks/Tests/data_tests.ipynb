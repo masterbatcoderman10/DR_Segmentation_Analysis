{
 "cells": [
  {
   "cell_type": "code",
   "execution_count": 1,
   "metadata": {},
   "outputs": [
    {
     "name": "stderr",
     "output_type": "stream",
     "text": [
      "/Users/akhtar/opt/anaconda3/envs/condatorch/lib/python3.8/site-packages/tqdm/auto.py:22: TqdmWarning: IProgress not found. Please update jupyter and ipywidgets. See https://ipywidgets.readthedocs.io/en/stable/user_install.html\n",
      "  from .autonotebook import tqdm as notebook_tqdm\n"
     ]
    }
   ],
   "source": [
    "import numpy as np\n",
    "from PIL import Image\n",
    "import cv2\n",
    "import torch\n",
    "import torchvision.transforms as transforms\n",
    "import time\n"
   ]
  },
  {
   "cell_type": "code",
   "execution_count": 11,
   "metadata": {},
   "outputs": [],
   "source": [
    "test = np.zeros((20, 20, 4))\n",
    "ones = np.ones((20, 20, 1))"
   ]
  },
  {
   "cell_type": "code",
   "execution_count": 6,
   "metadata": {},
   "outputs": [],
   "source": [
    "test[:,:,[1]] = ones"
   ]
  },
  {
   "cell_type": "code",
   "execution_count": 8,
   "metadata": {},
   "outputs": [],
   "source": [
    "background = np.full((20, 20, 1), 0.1)"
   ]
  },
  {
   "cell_type": "code",
   "execution_count": 9,
   "metadata": {},
   "outputs": [],
   "source": [
    "full = np.concatenate([background, test], axis = -1)"
   ]
  },
  {
   "cell_type": "code",
   "execution_count": 10,
   "metadata": {},
   "outputs": [
    {
     "data": {
      "text/plain": [
       "array([[[0.1, 0. , 1. , 0. , 0. ],\n",
       "        [0.1, 0. , 1. , 0. , 0. ],\n",
       "        [0.1, 0. , 1. , 0. , 0. ],\n",
       "        ...,\n",
       "        [0.1, 0. , 1. , 0. , 0. ],\n",
       "        [0.1, 0. , 1. , 0. , 0. ],\n",
       "        [0.1, 0. , 1. , 0. , 0. ]],\n",
       "\n",
       "       [[0.1, 0. , 1. , 0. , 0. ],\n",
       "        [0.1, 0. , 1. , 0. , 0. ],\n",
       "        [0.1, 0. , 1. , 0. , 0. ],\n",
       "        ...,\n",
       "        [0.1, 0. , 1. , 0. , 0. ],\n",
       "        [0.1, 0. , 1. , 0. , 0. ],\n",
       "        [0.1, 0. , 1. , 0. , 0. ]],\n",
       "\n",
       "       [[0.1, 0. , 1. , 0. , 0. ],\n",
       "        [0.1, 0. , 1. , 0. , 0. ],\n",
       "        [0.1, 0. , 1. , 0. , 0. ],\n",
       "        ...,\n",
       "        [0.1, 0. , 1. , 0. , 0. ],\n",
       "        [0.1, 0. , 1. , 0. , 0. ],\n",
       "        [0.1, 0. , 1. , 0. , 0. ]],\n",
       "\n",
       "       ...,\n",
       "\n",
       "       [[0.1, 0. , 1. , 0. , 0. ],\n",
       "        [0.1, 0. , 1. , 0. , 0. ],\n",
       "        [0.1, 0. , 1. , 0. , 0. ],\n",
       "        ...,\n",
       "        [0.1, 0. , 1. , 0. , 0. ],\n",
       "        [0.1, 0. , 1. , 0. , 0. ],\n",
       "        [0.1, 0. , 1. , 0. , 0. ]],\n",
       "\n",
       "       [[0.1, 0. , 1. , 0. , 0. ],\n",
       "        [0.1, 0. , 1. , 0. , 0. ],\n",
       "        [0.1, 0. , 1. , 0. , 0. ],\n",
       "        ...,\n",
       "        [0.1, 0. , 1. , 0. , 0. ],\n",
       "        [0.1, 0. , 1. , 0. , 0. ],\n",
       "        [0.1, 0. , 1. , 0. , 0. ]],\n",
       "\n",
       "       [[0.1, 0. , 1. , 0. , 0. ],\n",
       "        [0.1, 0. , 1. , 0. , 0. ],\n",
       "        [0.1, 0. , 1. , 0. , 0. ],\n",
       "        ...,\n",
       "        [0.1, 0. , 1. , 0. , 0. ],\n",
       "        [0.1, 0. , 1. , 0. , 0. ],\n",
       "        [0.1, 0. , 1. , 0. , 0. ]]])"
      ]
     },
     "execution_count": 10,
     "metadata": {},
     "output_type": "execute_result"
    }
   ],
   "source": [
    "full"
   ]
  },
  {
   "cell_type": "markdown",
   "metadata": {},
   "source": [
    "#### Image Reading Test"
   ]
  },
  {
   "cell_type": "code",
   "execution_count": 2,
   "metadata": {},
   "outputs": [],
   "source": [
    "test_img_path = \"../../../Data/retinal-lesions-v20191227/images_896x896/10037_left.jpg\""
   ]
  },
  {
   "cell_type": "code",
   "execution_count": 4,
   "metadata": {},
   "outputs": [
    {
     "name": "stdout",
     "output_type": "stream",
     "text": [
      "Time Taken : 0.009945770978927612\n"
     ]
    }
   ],
   "source": [
    "n = 1000\n",
    "avg_time = 0\n",
    "\n",
    "for i in range(n):\n",
    "\n",
    "    st = 0\n",
    "    et = 0\n",
    "    st = time.time()\n",
    "    img = cv2.imread(test_img_path)\n",
    "    img_t = torch.from_numpy(img)\n",
    "    et = time.time()\n",
    "    avg_time += (et - st)\n",
    "    \n",
    "print(f\"Time Taken : {avg_time / n}\")"
   ]
  },
  {
   "cell_type": "code",
   "execution_count": 6,
   "metadata": {},
   "outputs": [
    {
     "name": "stdout",
     "output_type": "stream",
     "text": [
      "Time Taken : 0.013919834613800048\n"
     ]
    }
   ],
   "source": [
    "avg_time = 0\n",
    "n = 1000\n",
    "transform = transforms.Compose([\n",
    "    transforms.PILToTensor()\n",
    "])\n",
    "for i in range(n):\n",
    "\n",
    "    st = 0\n",
    "    et = 0\n",
    "\n",
    "    st = time.time()\n",
    "    img = Image.open(test_img_path)\n",
    "    img_n = transform(img)\n",
    "    et = time.time()\n",
    "    avg_time += et - st\n",
    "\n",
    "print(f\"Time Taken : {avg_time / n}\")"
   ]
  },
  {
   "cell_type": "code",
   "execution_count": 7,
   "metadata": {},
   "outputs": [
    {
     "data": {
      "text/plain": [
       "torch.Size([3, 896, 896])"
      ]
     },
     "execution_count": 7,
     "metadata": {},
     "output_type": "execute_result"
    }
   ],
   "source": [
    "img_n.shape"
   ]
  },
  {
   "cell_type": "code",
   "execution_count": null,
   "metadata": {},
   "outputs": [],
   "source": []
  }
 ],
 "metadata": {
  "kernelspec": {
   "display_name": "Python 3.8.13 ('condatorch')",
   "language": "python",
   "name": "python3"
  },
  "language_info": {
   "codemirror_mode": {
    "name": "ipython",
    "version": 3
   },
   "file_extension": ".py",
   "mimetype": "text/x-python",
   "name": "python",
   "nbconvert_exporter": "python",
   "pygments_lexer": "ipython3",
   "version": "3.8.13"
  },
  "orig_nbformat": 4,
  "vscode": {
   "interpreter": {
    "hash": "99e5acb3856f6305f99fb5a2748a7d968f1ebcc7ceb39392309b10440f3adee4"
   }
  }
 },
 "nbformat": 4,
 "nbformat_minor": 2
}
